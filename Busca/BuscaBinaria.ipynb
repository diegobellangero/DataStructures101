{
 "cells": [
  {
   "cell_type": "code",
   "execution_count": 12,
   "id": "04737876",
   "metadata": {},
   "outputs": [],
   "source": [
    "# Vetor para realizar a busca\n",
    "V = [92, 97, 12, 20, 96, 80, 41, 10, 40, 20]"
   ]
  },
  {
   "cell_type": "code",
   "execution_count": 13,
   "id": "ff01804e",
   "metadata": {},
   "outputs": [],
   "source": [
    "# Valor procurado\n",
    "busca = 93"
   ]
  },
  {
   "cell_type": "code",
   "execution_count": 18,
   "id": "372b696b",
   "metadata": {},
   "outputs": [
    {
     "name": "stdout",
     "output_type": "stream",
     "text": [
      "Vetor ordenado:  [10, 12, 20, 20, 40, 41, 80, 92, 96, 97]\n"
     ]
    }
   ],
   "source": [
    "# Ordena o vetor\n",
    "for i in range(len(V)-1):\n",
    "    j = i\n",
    "    while j >= 0 and V[j+1] < V[j]:\n",
    "        aux = V[j]\n",
    "        V[j] = V[j+1]\n",
    "        V[j+1] = aux\n",
    "        j -= 1\n",
    "print(\"Vetor ordenado: \", V)"
   ]
  },
  {
   "cell_type": "code",
   "execution_count": 19,
   "id": "c0332065",
   "metadata": {},
   "outputs": [
    {
     "name": "stdout",
     "output_type": "stream",
     "text": [
      "meio inicio final\n",
      "4 0 9\n",
      "7 5 9\n",
      "8 8 9\n"
     ]
    }
   ],
   "source": [
    "inicio = 0\n",
    "final = len(V)-1\n",
    "posicao = -1\n",
    "\n",
    "while inicio <= final and i < 20:\n",
    "    meio = int (round (( final + inicio ) / 2, 0))\n",
    "    if busca < V[meio]:\n",
    "        final = meio - 1\n",
    "    elif busca > V[meio]:\n",
    "        inicio = meio + 1\n",
    "    else:\n",
    "        posicao = meio\n",
    "        break\n",
    "    i += 1"
   ]
  },
  {
   "cell_type": "code",
   "execution_count": 20,
   "id": "7c3291b2",
   "metadata": {},
   "outputs": [
    {
     "name": "stdout",
     "output_type": "stream",
     "text": [
      "0\n"
     ]
    }
   ],
   "source": [
    "print(posicao + 1)"
   ]
  }
 ],
 "metadata": {
  "kernelspec": {
   "display_name": "Python 3 (ipykernel)",
   "language": "python",
   "name": "python3"
  },
  "language_info": {
   "codemirror_mode": {
    "name": "ipython",
    "version": 3
   },
   "file_extension": ".py",
   "mimetype": "text/x-python",
   "name": "python",
   "nbconvert_exporter": "python",
   "pygments_lexer": "ipython3",
   "version": "3.11.2"
  }
 },
 "nbformat": 4,
 "nbformat_minor": 5
}
