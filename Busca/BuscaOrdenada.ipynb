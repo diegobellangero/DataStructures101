{
 "cells": [
  {
   "cell_type": "code",
   "execution_count": 34,
   "id": "09b7ba0a",
   "metadata": {},
   "outputs": [],
   "source": [
    "# Vetor para teste do código\n",
    "V = [48, 26, 59, 50, 40, 92, 66, 52, 46, 95]"
   ]
  },
  {
   "cell_type": "code",
   "execution_count": 42,
   "id": "9453d055",
   "metadata": {},
   "outputs": [],
   "source": [
    "# Valor procurado\n",
    "busca = 41"
   ]
  },
  {
   "cell_type": "code",
   "execution_count": 43,
   "id": "9e543e92",
   "metadata": {},
   "outputs": [
    {
     "name": "stdout",
     "output_type": "stream",
     "text": [
      "Vetor ordenado:  [26, 40, 46, 48, 50, 52, 59, 66, 92, 95]\n"
     ]
    }
   ],
   "source": [
    "# Ordena o vetor\n",
    "for i in range(len(V)-1):\n",
    "    j = i\n",
    "    while j >= 0 and V[j+1] < V[j]:\n",
    "        aux = V[j]\n",
    "        V[j] = V[j+1]\n",
    "        V[j+1] = aux\n",
    "        j -= 1\n",
    "print(\"Vetor ordenado: \", V)"
   ]
  },
  {
   "cell_type": "code",
   "execution_count": 44,
   "id": "2a02da9b",
   "metadata": {},
   "outputs": [],
   "source": [
    "posicao = -1\n",
    "for i in range(len(V)):\n",
    "    if V[i] == busca:\n",
    "        posicao = i\n",
    "        break\n",
    "    elif V[i] > busca:\n",
    "        break"
   ]
  },
  {
   "cell_type": "code",
   "execution_count": 46,
   "id": "9ac80ebd",
   "metadata": {},
   "outputs": [
    {
     "name": "stdout",
     "output_type": "stream",
     "text": [
      "Valor não encontrado. Percorrido até posição 2\n"
     ]
    }
   ],
   "source": [
    "if posicao == -1:\n",
    "    print (\"Valor não encontrado. Percorrido até posição \" + str ( i ))\n",
    "else:\n",
    "    print (\"valor na posição: \" + str ( i + 1 ))"
   ]
  }
 ],
 "metadata": {
  "kernelspec": {
   "display_name": "Python 3 (ipykernel)",
   "language": "python",
   "name": "python3"
  },
  "language_info": {
   "codemirror_mode": {
    "name": "ipython",
    "version": 3
   },
   "file_extension": ".py",
   "mimetype": "text/x-python",
   "name": "python",
   "nbconvert_exporter": "python",
   "pygments_lexer": "ipython3",
   "version": "3.11.2"
  }
 },
 "nbformat": 4,
 "nbformat_minor": 5
}
