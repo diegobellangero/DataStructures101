{
 "cells": [
  {
   "cell_type": "code",
   "execution_count": 24,
   "id": "4e557a0d",
   "metadata": {},
   "outputs": [],
   "source": [
    "# Vetor para procurar\n",
    "V = [15, 32, 40, 98, 73, 64, 46, 47, 53, 34]"
   ]
  },
  {
   "cell_type": "code",
   "execution_count": 28,
   "id": "c4c5013b",
   "metadata": {},
   "outputs": [],
   "source": [
    "# Valor procurado\n",
    "busca = 73"
   ]
  },
  {
   "cell_type": "code",
   "execution_count": 29,
   "id": "6497ecea",
   "metadata": {},
   "outputs": [],
   "source": [
    "posicao = -1\n",
    "for i in range(len(V)):\n",
    "    if V[i] == busca:\n",
    "        posicao = i\n",
    "        break"
   ]
  },
  {
   "cell_type": "code",
   "execution_count": 30,
   "id": "6f976dab",
   "metadata": {},
   "outputs": [
    {
     "name": "stdout",
     "output_type": "stream",
     "text": [
      "valor na posição: 5\n"
     ]
    }
   ],
   "source": [
    "if posicao == -1:\n",
    "    print (\"Valor não encontrado\")\n",
    "else:\n",
    "    print (\"valor na posição: \" + str(i + 1))"
   ]
  },
  {
   "cell_type": "code",
   "execution_count": null,
   "id": "4f62bc87",
   "metadata": {},
   "outputs": [],
   "source": []
  }
 ],
 "metadata": {
  "kernelspec": {
   "display_name": "Python 3 (ipykernel)",
   "language": "python",
   "name": "python3"
  },
  "language_info": {
   "codemirror_mode": {
    "name": "ipython",
    "version": 3
   },
   "file_extension": ".py",
   "mimetype": "text/x-python",
   "name": "python",
   "nbconvert_exporter": "python",
   "pygments_lexer": "ipython3",
   "version": "3.11.2"
  }
 },
 "nbformat": 4,
 "nbformat_minor": 5
}
