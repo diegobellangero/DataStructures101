{
 "cells": [
  {
   "cell_type": "code",
   "execution_count": 34,
   "id": "2b553002",
   "metadata": {},
   "outputs": [],
   "source": [
    "# Vetor para teste do código\n",
    "v = [47, 93, 80, 96, 49]"
   ]
  },
  {
   "cell_type": "code",
   "execution_count": 35,
   "id": "d4888f10",
   "metadata": {},
   "outputs": [],
   "source": [
    "# varre o vetor em toda a sua extensão\n",
    "for i in range (len(v)):\n",
    "    for j in range (len(v)-1):\n",
    "        if v[j] > v[j+1]:\n",
    "            aux = v[j]\n",
    "            v[j] = v[j+1]\n",
    "            v[j+1] = aux"
   ]
  },
  {
   "cell_type": "code",
   "execution_count": 36,
   "id": "ce9046f9",
   "metadata": {},
   "outputs": [
    {
     "name": "stdout",
     "output_type": "stream",
     "text": [
      "[47, 49, 80, 93, 96]\n"
     ]
    }
   ],
   "source": [
    "print(v)"
   ]
  },
  {
   "cell_type": "code",
   "execution_count": null,
   "id": "d88da4ef",
   "metadata": {},
   "outputs": [],
   "source": []
  }
 ],
 "metadata": {
  "kernelspec": {
   "display_name": "Python 3 (ipykernel)",
   "language": "python",
   "name": "python3"
  },
  "language_info": {
   "codemirror_mode": {
    "name": "ipython",
    "version": 3
   },
   "file_extension": ".py",
   "mimetype": "text/x-python",
   "name": "python",
   "nbconvert_exporter": "python",
   "pygments_lexer": "ipython3",
   "version": "3.11.2"
  }
 },
 "nbformat": 4,
 "nbformat_minor": 5
}
