{
 "cells": [
  {
   "cell_type": "code",
   "execution_count": 1,
   "id": "07cc0ea4",
   "metadata": {},
   "outputs": [],
   "source": [
    "# Vetor para teste do código\n",
    "v = [26, 39, 80, 87, 57]"
   ]
  },
  {
   "cell_type": "code",
   "execution_count": 9,
   "id": "c2c3950f",
   "metadata": {},
   "outputs": [],
   "source": [
    "for i in range(len(v)-1):\n",
    "    j = i\n",
    "    while j >= 0 and v[j+1] < v[j]:\n",
    "        aux = v[j]\n",
    "        v[j] = v[j+1]\n",
    "        v[j+1] = aux\n",
    "        j -= 1"
   ]
  },
  {
   "cell_type": "code",
   "execution_count": 10,
   "id": "f15a282c",
   "metadata": {},
   "outputs": [
    {
     "name": "stdout",
     "output_type": "stream",
     "text": [
      "[26, 39, 57, 80, 87]\n"
     ]
    }
   ],
   "source": [
    "print(v)"
   ]
  },
  {
   "cell_type": "code",
   "execution_count": null,
   "id": "79997fd9",
   "metadata": {},
   "outputs": [],
   "source": []
  }
 ],
 "metadata": {
  "kernelspec": {
   "display_name": "Python 3 (ipykernel)",
   "language": "python",
   "name": "python3"
  },
  "language_info": {
   "codemirror_mode": {
    "name": "ipython",
    "version": 3
   },
   "file_extension": ".py",
   "mimetype": "text/x-python",
   "name": "python",
   "nbconvert_exporter": "python",
   "pygments_lexer": "ipython3",
   "version": "3.11.2"
  }
 },
 "nbformat": 4,
 "nbformat_minor": 5
}
