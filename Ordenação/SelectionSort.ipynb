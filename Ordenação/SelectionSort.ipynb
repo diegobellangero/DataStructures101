{
 "cells": [
  {
   "cell_type": "code",
   "execution_count": 5,
   "id": "2d6c48c8",
   "metadata": {},
   "outputs": [],
   "source": [
    "# Vetor para teste do código\n",
    "v = [47,80,67,11,26]"
   ]
  },
  {
   "cell_type": "code",
   "execution_count": 6,
   "id": "47503a67",
   "metadata": {},
   "outputs": [],
   "source": [
    "# varre o vetor em toda a sua extensão\n",
    "for i in range (len(v)-1):\n",
    "    min = i\n",
    "    \n",
    "    # varre o vetor da próxima casa até o fim\n",
    "    for j in range (i, len(v)):\n",
    "        if v[min] > v[j]:\n",
    "            min = j\n",
    "    \n",
    "    if min != i:\n",
    "        aux = v[i]\n",
    "        v[i] = v[min]\n",
    "        v[min] = aux"
   ]
  },
  {
   "cell_type": "code",
   "execution_count": 7,
   "id": "d65d6cd1",
   "metadata": {},
   "outputs": [
    {
     "name": "stdout",
     "output_type": "stream",
     "text": [
      "[11, 26, 47, 67, 80]\n"
     ]
    }
   ],
   "source": [
    "print(v)"
   ]
  },
  {
   "cell_type": "code",
   "execution_count": null,
   "id": "4080c86e",
   "metadata": {},
   "outputs": [],
   "source": []
  }
 ],
 "metadata": {
  "kernelspec": {
   "display_name": "Python 3 (ipykernel)",
   "language": "python",
   "name": "python3"
  },
  "language_info": {
   "codemirror_mode": {
    "name": "ipython",
    "version": 3
   },
   "file_extension": ".py",
   "mimetype": "text/x-python",
   "name": "python",
   "nbconvert_exporter": "python",
   "pygments_lexer": "ipython3",
   "version": "3.11.2"
  }
 },
 "nbformat": 4,
 "nbformat_minor": 5
}
